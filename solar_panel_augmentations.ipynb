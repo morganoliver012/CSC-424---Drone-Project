{
 "cells": [
  {
   "cell_type": "code",
   "execution_count": 1,
   "metadata": {},
   "outputs": [],
   "source": [
    "import torch\n",
    "import numpy as np \n",
    "from torchvision.transforms import v2 "
   ]
  },
  {
   "cell_type": "code",
   "execution_count": null,
   "metadata": {},
   "outputs": [],
   "source": [
    "import torchvision.transforms as transforms\n",
    "from PIL import Image\n",
    "import os\n",
    "from pathlib import Path\n",
    "\n",
    "# Define transformation pipeline\n",
    "augmentation_transforms = transforms.Compose([\n",
    "    transforms.ColorJitter(brightness = [0.2, 1]),  # Resize images to 256x256\n",
    "    transforms.RandomRotation(degrees = 90),        # Rotate randomly between -90 and 90 degrees\n",
    "    transforms.RandomHorizontalFlip(p=0.5),         # Flip images\n",
    "    transforms.RandomPerspective(distortion_scale = 0.5), # Apply perspective transformation\n",
    "    transforms.RandomAffine(degrees=0, translate=(0.1, 0.1)), # Apply affine transformation\n",
    "])"
   ]
  },
  {
   "cell_type": "code",
   "execution_count": null,
   "metadata": {},
   "outputs": [],
   "source": [
    "# Folder to save augmented images\n",
    "selected_images = Path(r\"C:\\Users\\tomin\\Documents\\solar panels image\") \n",
    "output_folder = Path(\"augmented_images\")\n",
    "output_folder.mkdir(exist_ok=True)"
   ]
  },
  {
   "cell_type": "code",
   "execution_count": null,
   "metadata": {},
   "outputs": [
    {
     "ename": "TypeError",
     "evalue": "'WindowsPath' object is not iterable",
     "output_type": "error",
     "traceback": [
      "\u001b[31m---------------------------------------------------------------------------\u001b[39m",
      "\u001b[31mTypeError\u001b[39m                                 Traceback (most recent call last)",
      "\u001b[36mCell\u001b[39m\u001b[36m \u001b[39m\u001b[32mIn[12]\u001b[39m\u001b[32m, line 2\u001b[39m\n\u001b[32m      1\u001b[39m \u001b[38;5;66;03m# Apply augmentation and save images\u001b[39;00m\n\u001b[32m----> \u001b[39m\u001b[32m2\u001b[39m \u001b[38;5;28;01mfor\u001b[39;00m idx, img_path \u001b[38;5;129;01min\u001b[39;00m \u001b[38;5;28;43menumerate\u001b[39;49m\u001b[43m(\u001b[49m\u001b[43mselected_images\u001b[49m\u001b[43m)\u001b[49m:\n\u001b[32m      3\u001b[39m     img = Image.open(img_path).convert(\u001b[33m\"\u001b[39m\u001b[33mRGB\u001b[39m\u001b[33m\"\u001b[39m)\n\u001b[32m      5\u001b[39m     \u001b[38;5;66;03m# Save original\u001b[39;00m\n",
      "\u001b[31mTypeError\u001b[39m: 'WindowsPath' object is not iterable"
     ]
    }
   ],
   "source": [
    "for idx, img_path in enumerate(selected_images.iterdir()):\n",
    "    if img_path.suffix.lower() in [\".jpg\", \".jpeg\", \".png\"]:  # Ensure it's an image\n",
    "        img = Image.open(img_path).convert(\"RGB\")  # Load image in RGB mode\n",
    "        \n",
    "        # Save original image\n",
    "        img.save(output_folder / f\"image_{idx}.jpg\")\n",
    "\n",
    "        # Apply augmentation and save duplicate\n",
    "        augmented_img = augmentation_transforms(img)\n",
    "        augmented_img.save(output_folder / f\"image_{idx}_aug.jpg\")\n",
    "\n",
    "print(f\"Augmentation completed. Total images saved: {len(list(output_folder.iterdir()))}\")"
   ]
  }
 ],
 "metadata": {
  "kernelspec": {
   "display_name": ".venv",
   "language": "python",
   "name": "python3"
  },
  "language_info": {
   "codemirror_mode": {
    "name": "ipython",
    "version": 3
   },
   "file_extension": ".py",
   "mimetype": "text/x-python",
   "name": "python",
   "nbconvert_exporter": "python",
   "pygments_lexer": "ipython3",
   "version": "3.12.9"
  }
 },
 "nbformat": 4,
 "nbformat_minor": 2
}
